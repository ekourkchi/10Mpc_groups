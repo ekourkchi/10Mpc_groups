{
 "cells": [
  {
   "cell_type": "code",
   "execution_count": 1,
   "metadata": {},
   "outputs": [],
   "source": [
    "import sys\n",
    "import os\n",
    "import random\n",
    "import matplotlib.pyplot as plt\n",
    "from matplotlib import rc, rcParams\n",
    "from matplotlib.ticker import MultipleLocator, FormatStrFormatter\n",
    "import numpy as np\n",
    "from math import *\n",
    "from time import time\n",
    "import random\n",
    "from astropy.io import ascii\n",
    "from astropy.table import Table, Column\n",
    "import pylab as py\n",
    "from astropy import coordinates as coord\n",
    "from astropy import units as unit\n",
    "import subprocess\n",
    "from scipy import interpolate\n",
    "import astropy.stats.funcs as st\n",
    "import pandas as pd"
   ]
  },
  {
   "cell_type": "code",
   "execution_count": 2,
   "metadata": {},
   "outputs": [
    {
     "data": {
      "text/html": [
       "<div>\n",
       "<style scoped>\n",
       "    .dataframe tbody tr th:only-of-type {\n",
       "        vertical-align: middle;\n",
       "    }\n",
       "\n",
       "    .dataframe tbody tr th {\n",
       "        vertical-align: top;\n",
       "    }\n",
       "\n",
       "    .dataframe thead th {\n",
       "        text-align: right;\n",
       "    }\n",
       "</style>\n",
       "<table border=\"1\" class=\"dataframe\">\n",
       "  <thead>\n",
       "    <tr style=\"text-align: right;\">\n",
       "      <th></th>\n",
       "      <th>PGC</th>\n",
       "      <th>1PGC</th>\n",
       "      <th>d</th>\n",
       "      <th>l</th>\n",
       "      <th>b</th>\n",
       "      <th>sgl</th>\n",
       "      <th>sgb</th>\n",
       "      <th>T</th>\n",
       "      <th>Bt</th>\n",
       "      <th>Ks</th>\n",
       "      <th>...</th>\n",
       "      <th>Vls</th>\n",
       "      <th>Vpec</th>\n",
       "      <th>SGX</th>\n",
       "      <th>SGY</th>\n",
       "      <th>SGZ</th>\n",
       "      <th>Fil</th>\n",
       "      <th>Name</th>\n",
       "      <th>ID</th>\n",
       "      <th>fil</th>\n",
       "      <th>Gp ID</th>\n",
       "    </tr>\n",
       "  </thead>\n",
       "  <tbody>\n",
       "    <tr>\n",
       "      <th>0</th>\n",
       "      <td>42407</td>\n",
       "      <td>42407</td>\n",
       "      <td>9.33</td>\n",
       "      <td>298.4607</td>\n",
       "      <td>51.1493</td>\n",
       "      <td>126.6907</td>\n",
       "      <td>-6.6799</td>\n",
       "      <td>1.1</td>\n",
       "      <td>8.70</td>\n",
       "      <td>5.0</td>\n",
       "      <td>...</td>\n",
       "      <td>835</td>\n",
       "      <td>135</td>\n",
       "      <td>-5.54</td>\n",
       "      <td>7.43</td>\n",
       "      <td>-1.09</td>\n",
       "      <td>14.0</td>\n",
       "      <td>NGC4594</td>\n",
       "      <td>31</td>\n",
       "      <td>19</td>\n",
       "      <td>11-14 10</td>\n",
       "    </tr>\n",
       "    <tr>\n",
       "      <th>1</th>\n",
       "      <td>10217</td>\n",
       "      <td>9892</td>\n",
       "      <td>5.73</td>\n",
       "      <td>136.4978</td>\n",
       "      <td>-0.3269</td>\n",
       "      <td>359.5791</td>\n",
       "      <td>0.8309</td>\n",
       "      <td>4.0</td>\n",
       "      <td>5.85</td>\n",
       "      <td>4.5</td>\n",
       "      <td>...</td>\n",
       "      <td>222</td>\n",
       "      <td>-208</td>\n",
       "      <td>5.72</td>\n",
       "      <td>-0.04</td>\n",
       "      <td>0.08</td>\n",
       "      <td>14.0</td>\n",
       "      <td>Maffei-2</td>\n",
       "      <td>221</td>\n",
       "      <td>14</td>\n",
       "      <td>14-11 11</td>\n",
       "    </tr>\n",
       "    <tr>\n",
       "      <th>2</th>\n",
       "      <td>46153</td>\n",
       "      <td>46153</td>\n",
       "      <td>9.02</td>\n",
       "      <td>105.9971</td>\n",
       "      <td>74.2878</td>\n",
       "      <td>76.1990</td>\n",
       "      <td>14.2465</td>\n",
       "      <td>4.0</td>\n",
       "      <td>8.89</td>\n",
       "      <td>5.6</td>\n",
       "      <td>...</td>\n",
       "      <td>561</td>\n",
       "      <td>-116</td>\n",
       "      <td>2.09</td>\n",
       "      <td>8.49</td>\n",
       "      <td>2.22</td>\n",
       "      <td>14.1</td>\n",
       "      <td>NGC5055</td>\n",
       "      <td>210</td>\n",
       "      <td>14</td>\n",
       "      <td>14 -5  5</td>\n",
       "    </tr>\n",
       "    <tr>\n",
       "      <th>3</th>\n",
       "      <td>9031</td>\n",
       "      <td>9031</td>\n",
       "      <td>9.97</td>\n",
       "      <td>140.3846</td>\n",
       "      <td>-17.4156</td>\n",
       "      <td>342.9645</td>\n",
       "      <td>-4.7508</td>\n",
       "      <td>3.1</td>\n",
       "      <td>9.70</td>\n",
       "      <td>5.9</td>\n",
       "      <td>...</td>\n",
       "      <td>745</td>\n",
       "      <td>-2</td>\n",
       "      <td>9.50</td>\n",
       "      <td>-2.91</td>\n",
       "      <td>-0.83</td>\n",
       "      <td>14.0</td>\n",
       "      <td>NGC0891</td>\n",
       "      <td>324</td>\n",
       "      <td>14</td>\n",
       "      <td>17 -1  1</td>\n",
       "    </tr>\n",
       "    <tr>\n",
       "      <th>4</th>\n",
       "      <td>12209</td>\n",
       "      <td>12209</td>\n",
       "      <td>9.08</td>\n",
       "      <td>247.5239</td>\n",
       "      <td>-57.0424</td>\n",
       "      <td>256.4502</td>\n",
       "      <td>-36.8678</td>\n",
       "      <td>0.1</td>\n",
       "      <td>9.32</td>\n",
       "      <td>5.7</td>\n",
       "      <td>...</td>\n",
       "      <td>693</td>\n",
       "      <td>12</td>\n",
       "      <td>-1.70</td>\n",
       "      <td>-7.06</td>\n",
       "      <td>-5.45</td>\n",
       "      <td>15.0</td>\n",
       "      <td>NGC1291</td>\n",
       "      <td>952</td>\n",
       "      <td>53</td>\n",
       "      <td>53 -9  7</td>\n",
       "    </tr>\n",
       "  </tbody>\n",
       "</table>\n",
       "<p>5 rows × 21 columns</p>\n",
       "</div>"
      ],
      "text/plain": [
       "     PGC   1PGC     d         l        b       sgl      sgb    T    Bt   Ks  \\\n",
       "0  42407  42407  9.33  298.4607  51.1493  126.6907  -6.6799  1.1  8.70  5.0   \n",
       "1  10217   9892  5.73  136.4978  -0.3269  359.5791   0.8309  4.0  5.85  4.5   \n",
       "2  46153  46153  9.02  105.9971  74.2878   76.1990  14.2465  4.0  8.89  5.6   \n",
       "3   9031   9031  9.97  140.3846 -17.4156  342.9645  -4.7508  3.1  9.70  5.9   \n",
       "4  12209  12209  9.08  247.5239 -57.0424  256.4502 -36.8678  0.1  9.32  5.7   \n",
       "\n",
       "   ...  Vls  Vpec   SGX   SGY   SGZ   Fil                         Name   ID  \\\n",
       "0  ...  835   135 -5.54  7.43 -1.09  14.0                     NGC4594    31   \n",
       "1  ...  222  -208  5.72 -0.04  0.08  14.0                    Maffei-2   221   \n",
       "2  ...  561  -116  2.09  8.49  2.22  14.1                     NGC5055   210   \n",
       "3  ...  745    -2  9.50 -2.91 -0.83  14.0                     NGC0891   324   \n",
       "4  ...  693    12 -1.70 -7.06 -5.45  15.0                     NGC1291   952   \n",
       "\n",
       "    fil         Gp ID  \n",
       "0   19       11-14 10  \n",
       "1   14       14-11 11  \n",
       "2   14       14 -5  5  \n",
       "3   14       17 -1  1  \n",
       "4   53       53 -9  7  \n",
       "\n",
       "[5 rows x 21 columns]"
      ]
     },
     "execution_count": 2,
     "metadata": {},
     "output_type": "execute_result"
    }
   ],
   "source": [
    "dataFile = \"all10mpc.csv\"\n",
    "\n",
    "df = pd.read_csv(dataFile)\n",
    "\n",
    "for col in df.columns:\n",
    "    df = df.rename(columns={col:col.strip()})\n",
    "    \n",
    "df.head()"
   ]
  },
  {
   "cell_type": "code",
   "execution_count": 3,
   "metadata": {},
   "outputs": [
    {
     "data": {
      "text/html": [
       "<div>\n",
       "<style scoped>\n",
       "    .dataframe tbody tr th:only-of-type {\n",
       "        vertical-align: middle;\n",
       "    }\n",
       "\n",
       "    .dataframe tbody tr th {\n",
       "        vertical-align: top;\n",
       "    }\n",
       "\n",
       "    .dataframe thead th {\n",
       "        text-align: right;\n",
       "    }\n",
       "</style>\n",
       "<table border=\"1\" class=\"dataframe\">\n",
       "  <thead>\n",
       "    <tr style=\"text-align: right;\">\n",
       "      <th></th>\n",
       "      <th>D</th>\n",
       "      <th>d</th>\n",
       "    </tr>\n",
       "  </thead>\n",
       "  <tbody>\n",
       "    <tr>\n",
       "      <th>0</th>\n",
       "      <td>9.331913</td>\n",
       "      <td>9.33</td>\n",
       "    </tr>\n",
       "    <tr>\n",
       "      <th>1</th>\n",
       "      <td>5.720699</td>\n",
       "      <td>5.73</td>\n",
       "    </tr>\n",
       "    <tr>\n",
       "      <th>2</th>\n",
       "      <td>9.020898</td>\n",
       "      <td>9.02</td>\n",
       "    </tr>\n",
       "    <tr>\n",
       "      <th>3</th>\n",
       "      <td>9.970306</td>\n",
       "      <td>9.97</td>\n",
       "    </tr>\n",
       "    <tr>\n",
       "      <th>4</th>\n",
       "      <td>9.079433</td>\n",
       "      <td>9.08</td>\n",
       "    </tr>\n",
       "    <tr>\n",
       "      <th>5</th>\n",
       "      <td>3.770623</td>\n",
       "      <td>3.78</td>\n",
       "    </tr>\n",
       "    <tr>\n",
       "      <th>6</th>\n",
       "      <td>8.557161</td>\n",
       "      <td>8.56</td>\n",
       "    </tr>\n",
       "  </tbody>\n",
       "</table>\n",
       "</div>"
      ],
      "text/plain": [
       "          D     d\n",
       "0  9.331913  9.33\n",
       "1  5.720699  5.73\n",
       "2  9.020898  9.02\n",
       "3  9.970306  9.97\n",
       "4  9.079433  9.08\n",
       "5  3.770623  3.78\n",
       "6  8.557161  8.56"
      ]
     },
     "execution_count": 3,
     "metadata": {},
     "output_type": "execute_result"
    }
   ],
   "source": [
    "df['D'] = np.sqrt(df.SGX**2+df.SGY**2+df.SGZ**2)\n",
    "\n",
    "df[['D', 'd']].head(7)"
   ]
  },
  {
   "cell_type": "code",
   "execution_count": 4,
   "metadata": {},
   "outputs": [
    {
     "data": {
      "text/plain": [
       "Index(['PGC', '1PGC', 'd', 'l', 'b', 'sgl', 'sgb', 'T', 'Bt', 'Ks', 'logLK',\n",
       "       'Vls', 'Vpec', 'SGX', 'SGY', 'SGZ', 'Fil', 'Name', 'ID', 'fil', 'Gp ID',\n",
       "       'D'],\n",
       "      dtype='object')"
      ]
     },
     "execution_count": 4,
     "metadata": {},
     "output_type": "execute_result"
    }
   ],
   "source": [
    "df.columns"
   ]
  },
  {
   "cell_type": "code",
   "execution_count": 5,
   "metadata": {},
   "outputs": [
    {
     "data": {
      "text/plain": [
       "(array([ 37.,  15.,  29., 101.,  62.,  47.,  41.,  47.,  43.,  55.]),\n",
       " array([0.25 , 1.222, 2.194, 3.166, 4.138, 5.11 , 6.082, 7.054, 8.026,\n",
       "        8.998, 9.97 ]),\n",
       " <a list of 10 Patch objects>)"
      ]
     },
     "execution_count": 5,
     "metadata": {},
     "output_type": "execute_result"
    },
    {
     "data": {
      "image/png": "[encoded data removed]",
      "text/plain": [
       "<Figure size 432x288 with 1 Axes>"
      ]
     },
     "metadata": {
      "needs_background": "light"
     },
     "output_type": "display_data"
    }
   ],
   "source": [
    "plt.hist(df.d)"
   ]
  },
  {
   "cell_type": "code",
   "execution_count": 6,
   "metadata": {},
   "outputs": [],
   "source": [
    "# Originally made by M_L_ratio_curve_v2.py\n",
    "table = np.genfromtxt('M_L_curve_v2.csv', delimiter=',',\n",
    "                      filling_values=0, names=True, dtype=None)\n",
    "Lumin_in = 10**table['log10_L']\n",
    "Mass_out = 10**table['log10_M']\n",
    "\n",
    "LtoM_func = interpolate.interp1d(Lumin_in, Mass_out)\n",
    "\n",
    "\n",
    "def Mass(L_k):\n",
    "\n",
    "    if L_k == 0:\n",
    "        return 0\n",
    "\n",
    "    L = L_k / 1.E10\n",
    "\n",
    "    if L <= 0.0927:\n",
    "        MtoL = 32.0*(L**-0.5)\n",
    "    elif L > 0.0927 and L < 4.423:\n",
    "        return LtoM_func(L_k)\n",
    "    elif L >= 4.423:\n",
    "        MtoL = 32*(L**0.15)\n",
    "\n",
    "    Mass_out = L_k * MtoL\n",
    "\n",
    "    return Mass_out"
   ]
  },
  {
   "cell_type": "code",
   "execution_count": 7,
   "metadata": {},
   "outputs": [],
   "source": [
    "def m_logK(Ks, D):\n",
    "    if D <= 0:\n",
    "        return 0\n",
    "\n",
    "    Mk_sun = 3.28   # Ks-band\n",
    "    M = Ks - 5*np.log10(D) - 30 + 5\n",
    "    logK = -0.4 * (M - Mk_sun)\n",
    "\n",
    "    return logK"
   ]
  },
  {
   "cell_type": "code",
   "execution_count": 8,
   "metadata": {},
   "outputs": [],
   "source": [
    "class GalxyNode:\n",
    "    \n",
    "    ID = None\n",
    "    \n",
    "    SGX = None\n",
    "    SGY = None\n",
    "    SGY = None\n",
    "    \n",
    "    logLK = None\n",
    "    D     = None\n",
    "    N = None\n",
    "    Vls = None\n",
    "    right = None\n",
    "    left = None\n",
    "    df = None\n",
    "    Nest = None\n",
    "    # Class constructor\n",
    "    def __init__(self, df=None):\n",
    "        if df is not None:\n",
    "            self.data = df\n",
    "            self.SGX = df.SGX\n",
    "            self.SGY = df.SGY\n",
    "            self.SGZ = df.SGZ\n",
    "            self.D = np.sqrt(df.SGX**2+df.SGY**2+df.SGZ**2)\n",
    "            self.logLK = m_logK(df.Ks, df.d) # df.logLK\n",
    "            self.N = 1\n",
    "            self.Vls = df.Vls \n",
    "            self.ID = df.PGC\n",
    "            self.Nest = df.PGC\n",
    "            \n",
    "            mass = Mass(10**df.logLK)\n",
    "            self.Mass = mass\n",
    "            self.R2t = 0.215*((mass/1.E12)**(1./3))  # Mpc\n",
    "            self.r2t = self.R2t*np.sqrt(1.5)  # Mpc\n",
    "            self.rg = 1.05*self.r2t\n",
    "            self.Rg = 2.*self.rg/np.pi\n",
    "            self.inGroup = 0\n",
    "            self.PGC1 = df['1PGC']\n",
    "    def setParams(self, ID, SGX, SGY, SGZ, logLK, D, N, Vls):\n",
    "            self.SGX = SGX\n",
    "            self.SGY = SGY\n",
    "            self.SGZ = SGZ\n",
    "            self.D = D\n",
    "            self.logLK = logLK\n",
    "            self.N = N\n",
    "            self.Vls = Vls   \n",
    "            self.ID = ID\n",
    "            \n",
    "            mass = Mass(10**logLK)\n",
    "            self.Mass = mass\n",
    "            self.R2t = 0.215*((mass/1.E12)**(1./3))  # Mpc\n",
    "            self.r2t = self.R2t*np.sqrt(1.5)  # Mpc\n",
    "            self.rg = 1.05*self.r2t\n",
    "            self.Rg = 2.*self.rg/np.pi\n",
    "            \n",
    "            self.PGC1 = 0\n"
   ]
  },
  {
   "cell_type": "code",
   "execution_count": 9,
   "metadata": {},
   "outputs": [],
   "source": [
    "def readgalList(inFile):\n",
    "\n",
    "    df = pd.read_csv(inFile)\n",
    "    for col in df.columns:\n",
    "        df = df.rename(columns={col:col.strip()})\n",
    "    N_galaxies = len(df)\n",
    "    galList = []\n",
    "\n",
    "    i = 0\n",
    "    for i in range(N_galaxies):\n",
    "        node = GalxyNode(df.iloc[i])\n",
    "        galList.append(node)\n",
    "\n",
    "    print(\"No. of galaxies: \", len(galList))\n",
    "    return galList"
   ]
  },
  {
   "cell_type": "code",
   "execution_count": 10,
   "metadata": {},
   "outputs": [
    {
     "data": {
      "text/plain": [
       "(11.02830924393478, 4.5, 11.03)"
      ]
     },
     "execution_count": 10,
     "metadata": {},
     "output_type": "execute_result"
    }
   ],
   "source": [
    "GalxyNode(df.iloc[1]).logLK, GalxyNode(df.iloc[1]).data.Ks, GalxyNode(df.iloc[1]).data.logLK"
   ]
  },
  {
   "cell_type": "code",
   "execution_count": 11,
   "metadata": {},
   "outputs": [
    {
     "data": {
      "text/plain": [
       "(9.54, 9.542799670424541)"
      ]
     },
     "execution_count": 11,
     "metadata": {},
     "output_type": "execute_result"
    }
   ],
   "source": [
    "i = 50\n",
    "GalxyNode(df.iloc[i]).data.logLK, m_logK(GalxyNode(df.iloc[i]).data.Ks, GalxyNode(df.iloc[i]).data.d)"
   ]
  },
  {
   "cell_type": "code",
   "execution_count": 12,
   "metadata": {},
   "outputs": [
    {
     "name": "stdout",
     "output_type": "stream",
     "text": [
      "No. of galaxies:  477\n"
     ]
    }
   ],
   "source": [
    "galList = readgalList(dataFile)"
   ]
  },
  {
   "cell_type": "code",
   "execution_count": 13,
   "metadata": {},
   "outputs": [
    {
     "data": {
      "text/plain": [
       "39600"
      ]
     },
     "execution_count": 13,
     "metadata": {},
     "output_type": "execute_result"
    }
   ],
   "source": [
    "df.iloc[10].PGC"
   ]
  },
  {
   "cell_type": "code",
   "execution_count": 14,
   "metadata": {},
   "outputs": [
    {
     "data": {
      "text/plain": [
       "42407"
      ]
     },
     "execution_count": 14,
     "metadata": {},
     "output_type": "execute_result"
    }
   ],
   "source": [
    "galList[0].data.PGC"
   ]
  },
  {
   "cell_type": "code",
   "execution_count": 15,
   "metadata": {},
   "outputs": [],
   "source": [
    "def pair_distance(data1, data2):\n",
    "    \n",
    "    x1 = data1.SGX\n",
    "    y1 = data1.SGY\n",
    "    z1 = data1.SGZ\n",
    "\n",
    "    x2 = data2.SGX\n",
    "    y2 = data2.SGY\n",
    "    z2 = data2.SGZ\n",
    "    \n",
    "    return np.sqrt((x1-x2)**2+(y1-y2)**2+(z1-z2)**2)\n",
    "    "
   ]
  },
  {
   "cell_type": "code",
   "execution_count": 16,
   "metadata": {},
   "outputs": [],
   "source": [
    "def barycenter(L1, data1, L2, data2):\n",
    "\n",
    "    x1 = data1.SGX\n",
    "    y1 = data1.SGY\n",
    "    z1 = data1.SGZ\n",
    "\n",
    "    x2 = data2.SGX\n",
    "    y2 = data2.SGY\n",
    "    z2 = data2.SGZ\n",
    "\n",
    "    if L1 == 0 and L2 == 0:\n",
    "        x = 0.5*(x1+x2)\n",
    "        y = 0.5*(y1+y2)\n",
    "        z = 0.5*(z1+z2)\n",
    "    else:\n",
    "        L = L1 + L2\n",
    "        x = (L1*x1+L2*x2)/L\n",
    "        y = (L1*y1+L2*y2)/L\n",
    "        z = (L1*z1+L2*z2)/L\n",
    "\n",
    "    d = np.sqrt(x**2+y**2+z**2)\n",
    "\n",
    "    return L, x, y, z, d"
   ]
  },
  {
   "cell_type": "code",
   "execution_count": 17,
   "metadata": {},
   "outputs": [],
   "source": [
    "def galJoint(galNode1, galNode2, ID):\n",
    "\n",
    "    if galNode1 == None and galNode2 != None:\n",
    "        return galNode2\n",
    "    if galNode2 == None and galNode1 != None:\n",
    "        return galNode1\n",
    "    if galNode2 == None and galNode1 == None:\n",
    "        return None\n",
    "\n",
    "    L1 = 10**galNode1.logLK\n",
    "    L2 = 10**galNode2.logLK\n",
    "\n",
    "    try:\n",
    "        logK_tot = log10(L)\n",
    "    except:\n",
    "        logK_tot = 0\n",
    "\n",
    "    L, sgx, sgy, sgz, D = barycenter(L1, galNode1, L2, galNode2)\n",
    "\n",
    "    n1 = galNode1.N\n",
    "    n2 = galNode2.N\n",
    "    Vls = (n1*galNode1.Vls + n2*galNode2.Vls) / (n1+n2)\n",
    "\n",
    "    newNode = GalxyNode()\n",
    "    newNode.setParams(ID, sgx, sgy, sgz, np.log10(L), D, n1+n2, Vls)\n",
    "\n",
    "\n",
    "    # Brighter galaxy is the left child\n",
    "    if L1 >= L2:\n",
    "        newNode.left = galNode1\n",
    "        newNode.right = galNode2\n",
    "        newNode.Nest = galNode1.Nest\n",
    "    else:\n",
    "        newNode.left = galNode2\n",
    "        newNode.right = galNode1\n",
    "        newNode.Nest = galNode2.Nest\n",
    "\n",
    "    return newNode"
   ]
  },
  {
   "cell_type": "code",
   "execution_count": 18,
   "metadata": {},
   "outputs": [],
   "source": [
    "def LoosgalListJoint(galList, grID=500000000):\n",
    "    \n",
    "    Ngal = len(galList)\n",
    "    if Ngal == 0:\n",
    "        return None\n",
    "\n",
    "    Lum = []\n",
    "    for i in range(Ngal):\n",
    "        Lum.append(galList[i].logLK)\n",
    "    Lum = np.asarray(Lum)\n",
    "    indices = np.argsort(Lum)\n",
    "#     indices = indices[::-1]\n",
    "\n",
    "    root = None\n",
    "    for i in indices:\n",
    "        root = galJoint(root, galList[i], grID + galList[i].ID)\n",
    "    \n",
    "    return root"
   ]
  },
  {
   "cell_type": "code",
   "execution_count": 19,
   "metadata": {},
   "outputs": [],
   "source": [
    "pp = LoosgalListJoint(galList)"
   ]
  },
  {
   "cell_type": "code",
   "execution_count": 20,
   "metadata": {},
   "outputs": [
    {
     "data": {
      "text/plain": [
       "147019820641126.2"
      ]
     },
     "execution_count": 20,
     "metadata": {},
     "output_type": "execute_result"
    }
   ],
   "source": [
    "pp.Mass"
   ]
  },
  {
   "cell_type": "code",
   "execution_count": 21,
   "metadata": {},
   "outputs": [
    {
     "data": {
      "text/plain": [
       "477"
      ]
     },
     "execution_count": 21,
     "metadata": {},
     "output_type": "execute_result"
    }
   ],
   "source": [
    "len(galList)"
   ]
  },
  {
   "cell_type": "code",
   "execution_count": 22,
   "metadata": {},
   "outputs": [
    {
     "data": {
      "text/plain": [
       "8762942829645.955"
      ]
     },
     "execution_count": 22,
     "metadata": {},
     "output_type": "execute_result"
    }
   ],
   "source": [
    "galList[0].Mass"
   ]
  },
  {
   "cell_type": "code",
   "execution_count": 23,
   "metadata": {},
   "outputs": [],
   "source": [
    "# It returns all leaf-nodes at the bottom of a gaalxy tree.\n",
    "# root: is the root of the tree\n",
    "# It works recursively, so for large trees, it might\n",
    "# exhaust the recursion stack, and the codes crashe\n",
    "# so some exception handling is required in this case\n",
    "\n",
    "\n",
    "def NodeLeaf(root):\n",
    "    list = [root]\n",
    "    NodeLeafCore(root, list)\n",
    "    return list\n",
    "\n",
    "\n",
    "def NodeLeafCore(root, list):\n",
    "    if root.left == None:\n",
    "\n",
    "        list.append(root)\n",
    "    else:\n",
    "        NodeLeafCore(root.left, list)\n",
    "        NodeLeafCore(root.right, list)"
   ]
  },
  {
   "cell_type": "markdown",
   "metadata": {},
   "source": [
    "## Finding groups given a galaxy list"
   ]
  },
  {
   "cell_type": "code",
   "execution_count": 24,
   "metadata": {},
   "outputs": [],
   "source": [
    "def IndividualGal(galList_org):\n",
    "\n",
    "    galList = []\n",
    "    for galaxy in galList_org:\n",
    "        if galaxy.inGroup == 0:\n",
    "            galList.append(galaxy)\n",
    "            \n",
    "    individuals = []\n",
    "    mass = []\n",
    "    for i in range(0, len(galList)):\n",
    "        mass.append(galList[i].Mass)\n",
    "    mass = np.asarray(mass)\n",
    "    indices = np.argsort(mass)\n",
    "    for i in indices[::-1]:\n",
    "        individuals.append(galList[i])\n",
    "\n",
    "    NEWgpLIST = []\n",
    "    p = 0\n",
    "    N = len(individuals)\n",
    "      \n",
    "    while p < N-1:\n",
    "        galaxies = []\n",
    "        galaxies.append(individuals[p])\n",
    "        q = (p+1) % N\n",
    "        pivot = p\n",
    "        grp = galaxies[0]\n",
    "        Bol = False\n",
    "        while q != pivot:\n",
    "\n",
    "            DD = pair_distance(grp, individuals[q])\n",
    "            \n",
    "            if DD <= 1.05*(grp.r2t + individuals[q].r2t):\n",
    "                \n",
    "                    galaxies.append(individuals[q])\n",
    "                    grp = LoosgalListJoint(galaxies, grID=1000000000)\n",
    "                    individuals.pop(q)\n",
    "                    \n",
    "                    Bol = True\n",
    "\n",
    "                    N -= 1\n",
    "\n",
    "                    if p >= q:\n",
    "                        p -= 1\n",
    "\n",
    "                    if len(galaxies) == 2:\n",
    "                        individuals.pop(p)\n",
    "                        N -= 1\n",
    "                        if q > p:\n",
    "                            q = (q-1) % N\n",
    "\n",
    "                    q = (q-1) % N\n",
    "                    pivot = q\n",
    "\n",
    "            q = (q+1) % N\n",
    "        if Bol:\n",
    "            NEWgpLIST.append(NodeLeaf(grp))\n",
    "        p += 1\n",
    "\n",
    "        for i in range(0, len(NEWgpLIST)):\n",
    "            NEWgpLIST[i][0].inGroup = 2\n",
    "            for j in range(1, len(NEWgpLIST[i])):\n",
    "                NEWgpLIST[i][j].inGroup = 1\n",
    "\n",
    "\n",
    "    return NEWgpLIST"
   ]
  },
  {
   "cell_type": "code",
   "execution_count": 25,
   "metadata": {},
   "outputs": [
    {
     "data": {
      "text/plain": [
       "35"
      ]
     },
     "execution_count": 25,
     "metadata": {},
     "output_type": "execute_result"
    }
   ],
   "source": [
    "for gal in galList:\n",
    "    gal.inGroup=0\n",
    "G_list = IndividualGal(galList)\n",
    "len(G_list)"
   ]
  },
  {
   "cell_type": "markdown",
   "metadata": {},
   "source": [
    "## Merging Groups if possible"
   ]
  },
  {
   "cell_type": "code",
   "execution_count": 26,
   "metadata": {},
   "outputs": [],
   "source": [
    "def mergGroup(G_list):\n",
    "\n",
    "    NoGroups = len(G_list)\n",
    "\n",
    "    i = 0\n",
    "    while i < NoGroups:\n",
    "        j = i+1\n",
    "        while j < NoGroups-1:\n",
    "\n",
    "            DD = pair_distance(G_list[i][0], G_list[j][0])\n",
    "            \n",
    "            if DD <= G_list[i][0].r2t + G_list[j][0].r2t:\n",
    "\n",
    "                newGroup = []\n",
    "\n",
    "                for p in range(1, len(G_list[i])):\n",
    "                    newGroup.append(G_list[i][p])\n",
    "\n",
    "                for q in range(1, len(G_list[j])):\n",
    "                    newGroup.append(G_list[j][q])\n",
    "\n",
    "                root = LoosgalListJoint(newGroup, grID=2000000000)\n",
    "                G_list[i] = NodeLeaf(root)\n",
    "\n",
    "                G_list.pop(j)\n",
    "                NoGroups -= 1\n",
    "                i = 0\n",
    "                j = 0\n",
    "            j += 1\n",
    "        i += 1\n",
    "\n",
    "    return G_list"
   ]
  },
  {
   "cell_type": "code",
   "execution_count": 27,
   "metadata": {},
   "outputs": [
    {
     "data": {
      "text/plain": [
       "35"
      ]
     },
     "execution_count": 27,
     "metadata": {},
     "output_type": "execute_result"
    }
   ],
   "source": [
    "G_list = mergGroup(G_list)\n",
    "\n",
    "len(G_list)"
   ]
  },
  {
   "cell_type": "markdown",
   "metadata": {},
   "source": [
    "## Storing the catalog on disk"
   ]
  },
  {
   "cell_type": "code",
   "execution_count": 28,
   "metadata": {},
   "outputs": [],
   "source": [
    "myTable = Table()\n",
    "\n",
    "empty = []\n",
    "myTable.add_column(Column(data=empty, name='PGC', dtype=np.dtype(int)))\n",
    "myTable.add_column(Column(data=empty, name='G', dtype=np.dtype(int)))\n",
    "myTable.add_column(Column(data=empty, name='Nest_10Mpc', dtype=np.dtype(int)))\n",
    "myTable.add_column(Column(data=empty, name='1PGC', dtype=np.dtype(int)))\n",
    "myTable.add_column(Column(data=empty, name='N', dtype=np.dtype(int)))\n",
    "\n",
    "myTable.add_column(Column(data=empty, name='SGX', format='%0.2f'))\n",
    "myTable.add_column(Column(data=empty, name='SGY', format='%0.2f'))\n",
    "myTable.add_column(Column(data=empty, name='SGZ', format='%0.2f'))\n",
    "myTable.add_column(Column(data=empty, name='D', format='%0.2f'))\n",
    "myTable.add_column(Column(data=empty, name='Vls', dtype=np.dtype(int)))\n",
    "myTable.add_column(Column(data=empty, name='logLK', format='%0.3f'))\n",
    "myTable.add_column(Column(data=empty, name='Mass', format='%0.4f'))\n",
    "myTable.add_column(Column(data=empty, name='r2t', format='%0.3f'))\n",
    "\n",
    "NoGroups = len(G_list)\n",
    "\n",
    "for i in range(0, NoGroups):  # for all groups\n",
    "    Nest = G_list[i][0].Nest\n",
    "    Ngal = G_list[i][0].N\n",
    "    for j in range(0, len(G_list[i])):  # for all galaxies\n",
    "        galaxy = G_list[i][j]\n",
    "        \n",
    "        myTable.add_row([\n",
    "                        galaxy.ID,\n",
    "                        galaxy.inGroup,\n",
    "                        Nest,\n",
    "                        galaxy.PGC1,\n",
    "                        Ngal,\n",
    "                        galaxy.SGX,\n",
    "                        galaxy.SGY,\n",
    "                        galaxy.SGZ,\n",
    "                        galaxy.D,\n",
    "                        galaxy.Vls,\n",
    "                        galaxy.logLK,\n",
    "                        galaxy.Mass/1.e12,\n",
    "                        galaxy.r2t\n",
    "                        ])\n",
    "\n",
    "individuals = []\n",
    "for galaxy in galList:\n",
    "    if galaxy.inGroup <= 0:\n",
    "        individuals.append(galaxy)\n",
    "\n",
    "mass = []\n",
    "for i in range(0, len(individuals)):\n",
    "    mass.append(individuals[i].Mass)\n",
    "mass = np.asarray(mass)\n",
    "indices = np.argsort(mass)\n",
    "\n",
    "for i in indices[::-1]:\n",
    "    galaxy = individuals[i]\n",
    "    myTable.add_row([\n",
    "                galaxy.ID,\n",
    "                galaxy.inGroup,\n",
    "                galaxy.Nest,\n",
    "                galaxy.PGC1,\n",
    "                galaxy.N,\n",
    "                galaxy.SGX,\n",
    "                galaxy.SGY,\n",
    "                galaxy.SGZ,\n",
    "                galaxy.D,\n",
    "                galaxy.Vls,\n",
    "                galaxy.logLK,\n",
    "                galaxy.Mass/1.e12,\n",
    "                galaxy.r2t\n",
    "                ])\n",
    "        \n",
    "myTable.write('groups_10Mpc.csv', format='ascii.fixed_width', delimiter=',', bookend=False)  "
   ]
  },
  {
   "cell_type": "code",
   "execution_count": null,
   "metadata": {},
   "outputs": [],
   "source": []
  },
  {
   "cell_type": "code",
   "execution_count": 29,
   "metadata": {},
   "outputs": [
    {
     "data": {
      "text/plain": [
       "[<matplotlib.lines.Line2D at 0x7f9e6da2c5b0>]"
      ]
     },
     "execution_count": 29,
     "metadata": {},
     "output_type": "execute_result"
    },
    {
     "data": {
      "image/png": "[encoded data removed]",
      "text/plain": [
       "<Figure size 432x288 with 1 Axes>"
      ]
     },
     "metadata": {
      "needs_background": "light"
     },
     "output_type": "display_data"
    }
   ],
   "source": [
    "dff = pd.read_csv(\"groups_10Mpc.csv\")\n",
    "\n",
    "for col in dff.columns:\n",
    "    dff = dff.rename(columns={col:col.strip()})\n",
    "\n",
    "plt.plot(dff.logLK, np.log10(dff.Mass*1.e12)-dff.logLK, '.')"
   ]
  },
  {
   "cell_type": "code",
   "execution_count": null,
   "metadata": {},
   "outputs": [],
   "source": []
  },
  {
   "cell_type": "code",
   "execution_count": null,
   "metadata": {},
   "outputs": [],
   "source": []
  },
  {
   "cell_type": "code",
   "execution_count": null,
   "metadata": {},
   "outputs": [],
   "source": []
  },
  {
   "cell_type": "code",
   "execution_count": null,
   "metadata": {},
   "outputs": [],
   "source": []
  }
 ],
 "metadata": {
  "kernelspec": {
   "display_name": "Python 3",
   "language": "python",
   "name": "python3"
  },
  "language_info": {
   "codemirror_mode": {
    "name": "ipython",
    "version": 3
   },
   "file_extension": ".py",
   "mimetype": "text/x-python",
   "name": "python",
   "nbconvert_exporter": "python",
   "pygments_lexer": "ipython3",
   "version": "3.8.5"
  }
 },
 "nbformat": 4,
 "nbformat_minor": 4
}
